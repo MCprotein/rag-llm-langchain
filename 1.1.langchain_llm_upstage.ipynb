{
 "cells": [
  {
   "cell_type": "code",
   "execution_count": 5,
   "id": "b9702a71",
   "metadata": {},
   "outputs": [
    {
     "data": {
      "text/plain": [
       "True"
      ]
     },
     "execution_count": 5,
     "metadata": {},
     "output_type": "execute_result"
    }
   ],
   "source": [
    "from dotenv import load_dotenv\n",
    "\n",
    "load_dotenv()"
   ]
  },
  {
   "cell_type": "code",
   "execution_count": 6,
   "id": "218f0a98",
   "metadata": {},
   "outputs": [],
   "source": [
    "from langchain_upstage import ChatUpstage\n",
    "# import os\n",
    "\n",
    "# api_key = os.getenv(\"OPENAI_API_KEY\")\n",
    "\n",
    "llm = ChatUpstage()"
   ]
  },
  {
   "cell_type": "code",
   "execution_count": null,
   "id": "305ab93d",
   "metadata": {},
   "outputs": [],
   "source": []
  },
  {
   "cell_type": "code",
   "execution_count": null,
   "id": "5666d358",
   "metadata": {},
   "outputs": [],
   "source": []
  },
  {
   "cell_type": "code",
   "execution_count": 7,
   "id": "97d572bd",
   "metadata": {},
   "outputs": [
    {
     "data": {
      "text/plain": [
       "AIMessage(content='인프런에는 다양한 분야의 온라인 강의가 제공됩니다. 주요 카테고리는 다음과 같습니다:\\n\\n1. **프로그래밍**: Python, Java, JavaScript, Ruby 등 다양한 프로그래밍 언어 강의가 있습니다. 또한, 웹 개발, 모바일 개발, 데이터 사이언스, 머신러닝 등 전문 분야 강의도 있습니다.\\n\\n2. **디자인**: UX/UI 디자인, 그래픽 디자인, 웹 디자인, 포토샵, 일러스트레이터 등의 디자인 관련 강의가 있습니다.\\n\\n3. **비즈니스**: 마케팅, 재무, 인사, 경영전략 등 비즈니스 관련 강의가 있습니다.\\n\\n4. **인문학**: 심리학, 철학, 역사 등 인문학 분야의 강의가 있습니다.\\n\\n5. **기타**: 사진, 비디오 편집, 음악 제작, 외국어 학습 등 다양한 주제의 강의가 있습니다.\\n\\n이 외에도 최신 기술 동향에 맞춘 새로운 강의가 지속적으로 추가되고 있습니다. 인프런 웹사이트를 방문하시면 더 자세한 정보를 확인하실 수 있습니다.', additional_kwargs={'refusal': None}, response_metadata={'token_usage': {'completion_tokens': 203, 'prompt_tokens': 19, 'total_tokens': 222, 'completion_tokens_details': None, 'prompt_tokens_details': None}, 'model_name': 'solar-mini-250422', 'system_fingerprint': None, 'id': 'faabc372-d03c-4ceb-9dac-65dbbd8db9da', 'service_tier': None, 'finish_reason': 'stop', 'logprobs': None}, id='run--6d7b9579-9557-4f24-a07f-5c7960447cec-0', usage_metadata={'input_tokens': 19, 'output_tokens': 203, 'total_tokens': 222, 'input_token_details': {}, 'output_token_details': {}})"
      ]
     },
     "execution_count": 7,
     "metadata": {},
     "output_type": "execute_result"
    }
   ],
   "source": [
    "llm.invoke(\"인프런에 어떤 강의가 있나요?\")"
   ]
  },
  {
   "cell_type": "code",
   "execution_count": null,
   "id": "6d0ed6b9",
   "metadata": {},
   "outputs": [],
   "source": []
  }
 ],
 "metadata": {
  "kernelspec": {
   "display_name": ".venv",
   "language": "python",
   "name": "python3"
  },
  "language_info": {
   "codemirror_mode": {
    "name": "ipython",
    "version": 3
   },
   "file_extension": ".py",
   "mimetype": "text/x-python",
   "name": "python",
   "nbconvert_exporter": "python",
   "pygments_lexer": "ipython3",
   "version": "3.13.5"
  }
 },
 "nbformat": 4,
 "nbformat_minor": 5
}
